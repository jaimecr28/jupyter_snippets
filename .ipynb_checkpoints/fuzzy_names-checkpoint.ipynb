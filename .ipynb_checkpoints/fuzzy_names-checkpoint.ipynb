{
 "cells": [
  {
   "cell_type": "code",
   "execution_count": null,
   "metadata": {},
   "outputs": [],
   "source": [
    "#Bibliotecas necessarias\n",
    "import pandas as pd\n",
    "import numpy as np\n",
    "from fuzzywuzzy import fuzz\n",
    "from fuzzywuzzy import process\n",
    "#Dados obtidos no RH\n",
    "data_rh = pd.read_csv(\"funcionarios.csv\" ,\";\")\n",
    "#lista de nomes do RH\n",
    "nomes_rh = sorted(set(data_rh['NOME']))\n",
    "#Dados obtidos pelas respostas do formulario\n",
    "data_resp = pd.read_csv(\"RESPOSTAS.csv\", \";\")\n",
    "#lista de nomes obtidos nas respostas\n",
    "nomes_respostas = sorted(set(data_resp['NOME']))\n",
    "#lista vazia\n",
    "match_names=[]\n",
    "#loop que identifica os matches\n",
    "for nome in nomes_respostas:\n",
    "    #print(nome)\n",
    "    nome_rh = process.extractOne(nome.strip(), nomes_rh, scorer=fuzz.token_sort_ratio)\n",
    "    #print(nome_rh)\n",
    "    match_names.append([nome, nome_rh[0], nome_rh[1]])\n",
    "    \n",
    "#Transforma a lista em um dataframe\n",
    "match_data = pd.DataFrame(match_names, columns=['Resposta', 'RH', 'Percentual'])\n",
    "#Exporta em excel\n",
    "match_data.to_excel('match.xls', index=False, encoding='utf-8')"
   ]
  }
 ],
 "metadata": {
  "kernelspec": {
   "display_name": "Python 3",
   "language": "python",
   "name": "python3"
  },
  "language_info": {
   "codemirror_mode": {
    "name": "ipython",
    "version": 3
   },
   "file_extension": ".py",
   "mimetype": "text/x-python",
   "name": "python",
   "nbconvert_exporter": "python",
   "pygments_lexer": "ipython3",
   "version": "3.7.6"
  }
 },
 "nbformat": 4,
 "nbformat_minor": 4
}
